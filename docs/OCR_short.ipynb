{
 "cells": [
  {
   "cell_type": "markdown",
   "metadata": {},
   "source": [
    "## **Converting scanned PDF files to searchable PDF files using OCR**"
   ]
  },
  {
   "cell_type": "markdown",
   "metadata": {},
   "source": [
    "### ***Import Libraries***"
   ]
  },
  {
   "cell_type": "code",
   "execution_count": null,
   "metadata": {},
   "outputs": [],
   "source": [
    "from PIL import Image\n",
    "import pytesseract\n",
    "import sys\n",
    "from pdf2image import convert_from_path\n",
    "import os\n",
    "\n",
    "import cv2\n",
    "\n",
    "import PyPDF2\n",
    "from PyPDF2 import PdfFileMerger\n",
    "\n",
    "from natsort import natsorted\n",
    "import glob"
   ]
  },
  {
   "cell_type": "markdown",
   "metadata": {},
   "source": [
    "### ***Load scanned PDF file***"
   ]
  },
  {
   "cell_type": "code",
   "execution_count": 2,
   "metadata": {},
   "outputs": [],
   "source": [
    "PDF_file = 'C:/Users/Jin/Documents/00_Machine_Learning/OCR/Data/treaty.pdf'"
   ]
  },
  {
   "cell_type": "markdown",
   "metadata": {},
   "source": [
    "### ***Convert and save each page as separate image file***"
   ]
  },
  {
   "cell_type": "code",
   "execution_count": 4,
   "metadata": {},
   "outputs": [],
   "source": [
    "pages = convert_from_path(PDF_file, 500)"
   ]
  },
  {
   "cell_type": "code",
   "execution_count": 5,
   "metadata": {},
   "outputs": [],
   "source": [
    "\n",
    "\n",
    "image_path = 'C:/Users/Jin/Documents/00_Machine_Learning/OCR/Image/'\n",
    "image_counter = 1\n",
    "  \n",
    "\n",
    "for page in pages:\n",
    "\n",
    "    filename = \"page_\" + str(image_counter)+\".jpg\"\n",
    "\n",
    "    page.save(image_path + filename, 'JPEG')\n",
    "  \n",
    "    image_counter = image_counter + 1\n",
    "  "
   ]
  },
  {
   "cell_type": "markdown",
   "metadata": {},
   "source": [
    "### ***Convert each image to searchable PDF***"
   ]
  },
  {
   "cell_type": "code",
   "execution_count": 14,
   "metadata": {},
   "outputs": [],
   "source": [
    "\n",
    "pytesseract.pytesseract.tesseract_cmd = 'C://Program Files//Tesseract-OCR//tesseract.exe'\n",
    "TESSDATA_PREFIX = 'C://Program Files//Tesseract-OCR'\n",
    "tessdata_dir_config = '--tessdata-dir \"C://Program Files//Tesseract-OCR//tessdata\"'\n",
    "\n",
    "\n",
    "filelimit = image_counter - 1\n",
    "\n",
    "Image_collate_path = 'C:/Users/Jin/Documents/00_Machine_Learning/OCR/Image/'\n",
    "#PDF_collate_path = 'C:/Users/Jin/Documents/00_Machine_Learning/OCR/PDF/'\n",
    "Output_path = \"C:/Users/Jin/Documents/00_Machine_Learning/OCR/Output/\"\n",
    "\n",
    "for i in range(1, filelimit + 1):\n",
    "    \n",
    "    filename_jpg = \"page_\" + str(i) + \".jpg\"\n",
    "    filename_pdf = str(i) + \".pdf\"\n",
    "    \n",
    "            \n",
    "    img_OCR = cv2.imread(Image_collate_path + filename_jpg, 1)\n",
    "    result = pytesseract.image_to_pdf_or_hocr(img_OCR, lang = 'eng', config = tessdata_dir_config, extension = 'pdf')\n",
    "    \n",
    "    f = open(Output_path + filename_pdf, \"w+b\")\n",
    "    f.write(bytearray(result))\n",
    "    f.close\n"
   ]
  },
  {
   "cell_type": "code",
   "execution_count": 17,
   "metadata": {},
   "outputs": [],
   "source": [
    "#pdfFiles = []\n",
    "\n",
    "#for filename in os.listdir(Output_path):\n",
    "#    if filename.endswith('.pdf'):\n",
    "#        pdfFiles.append(filename)\n",
    "\n",
    "#pdfFiles.sort(key = str.lower)\n",
    "#natsorted(pdfFiles)\n"
   ]
  },
  {
   "cell_type": "markdown",
   "metadata": {},
   "source": [
    "### ***Sort by page number and merge into one PDF***"
   ]
  },
  {
   "cell_type": "code",
   "execution_count": 10,
   "metadata": {
    "scrolled": true
   },
   "outputs": [],
   "source": [
    "pdfFiles_sort = natsorted(pdfFiles)"
   ]
  },
  {
   "cell_type": "code",
   "execution_count": 15,
   "metadata": {},
   "outputs": [],
   "source": [
    "pdfFiles_sort = natsorted(glob.glob(Output_path + \"*.pdf\"))"
   ]
  },
  {
   "cell_type": "code",
   "execution_count": 16,
   "metadata": {},
   "outputs": [],
   "source": [
    "merger = PdfFileMerger()\n",
    "\n",
    "for pdf in pdfFiles_sort:\n",
    "    merger.append(pdf)\n",
    "\n",
    "merger.write(\"treaty_OCR.pdf\")\n",
    "merger.close()"
   ]
  },
  {
   "cell_type": "code",
   "execution_count": null,
   "metadata": {},
   "outputs": [],
   "source": []
  },
  {
   "cell_type": "markdown",
   "metadata": {},
   "source": [
    "### **Others**"
   ]
  },
  {
   "cell_type": "code",
   "execution_count": null,
   "metadata": {},
   "outputs": [],
   "source": [
    "## For extracting texts into a .txt file\n",
    "\n",
    "#Part #2 - Recognizing text from the images using OCR - \n",
    "\n",
    "    \n",
    "# Variable to get count of total number of pages\n",
    "filelimit = image_counter - 1\n",
    "  \n",
    "# Creating a text file to write the output\n",
    "outfile = \"out_text.txt\"\n",
    "\n",
    "# Open the file in append mode so that \n",
    "# All contents of all images are added to the same file\n",
    "\n",
    "f = open(outfile, \"a\")\n",
    "  \n",
    "# Iterate from 1 to total number of pages\n",
    "for i in range(1, filelimit + 1):\n",
    "  \n",
    "    # Set filename to recognize text from\n",
    "    # Again, these files will be:\n",
    "    # page_1.jpg\n",
    "    # page_2.jpg\n",
    "    # ....\n",
    "    # page_n.jpg\n",
    "    filename = \"page_\" + str(i) + \".jpg\"\n",
    "          \n",
    "    # Recognize the text as string in image using pytesserct\n",
    "    text = str(((pytesseract.image_to_string(Image.open(image_path + filename)))))\n",
    "  \n",
    "    # The recognized text is stored in variable text\n",
    "    # Any string processing may be applied on text\n",
    "    # Here, basic formatting has been done:\n",
    "    # In many PDFs, at line ending, if a word can't\n",
    "    # be written fully, a 'hyphen' is added.\n",
    "    # The rest of the word is written in the next line\n",
    "    # Eg: This is a sample text this word here GeeksF-\n",
    "    # orGeeks is half on first line, remaining on next.\n",
    "    # To remove this, we replace every '-\\n' to ''.\n",
    "    text = text.replace('-\\n', '')    \n",
    "  \n",
    "    # Finally, write the processed text to the file.\n",
    "    f.write(text)\n",
    "  \n",
    "# Close the file after writing all the text.\n",
    "f.close()"
   ]
  }
 ],
 "metadata": {
  "kernelspec": {
   "display_name": "Python 3",
   "language": "python",
   "name": "python3"
  },
  "language_info": {
   "codemirror_mode": {
    "name": "ipython",
    "version": 3
   },
   "file_extension": ".py",
   "mimetype": "text/x-python",
   "name": "python",
   "nbconvert_exporter": "python",
   "pygments_lexer": "ipython3",
   "version": "3.6.7"
  }
 },
 "nbformat": 4,
 "nbformat_minor": 2
}
